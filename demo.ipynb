{
 "cells": [
  {
   "cell_type": "markdown",
   "metadata": {},
   "source": [
    "# Defect Detection with U-Net\n",
    "\n",
    "The project of SciRP in 2024 fall.\n",
    "\n",
    "Model used: U-Net(with residual and attention)\n",
    "\n",
    "Dataset: kolektorSSD\n",
    "\n",
    "### Training Part\n",
    "\n",
    "Using tensorboard to make the log:"
   ]
  },
  {
   "cell_type": "code",
   "execution_count": 1,
   "metadata": {},
   "outputs": [],
   "source": [
    "import torch,gc\n",
    "from torch import nn\n",
    "from torch.optim import Adam\n",
    "from torch.utils.data import DataLoader\n",
    "from torchvision import transforms\n",
    "from torch.utils.tensorboard import SummaryWriter\n",
    "\n",
    "import utils.network as nt\n",
    "from utils.trainer import Trainer\n",
    "from utils.dataloader import CropDataset\n",
    "from utils.loss import DiceBCELoss\n",
    "\n",
    "gc.collect()\n",
    "torch.cuda.empty_cache()"
   ]
  },
  {
   "cell_type": "code",
   "execution_count": 2,
   "metadata": {},
   "outputs": [
    {
     "name": "stdout",
     "output_type": "stream",
     "text": [
      "Setting completed!\n"
     ]
    }
   ],
   "source": [
    "# hyperparameters\n",
    "lr = 1e-4\n",
    "epochs = 150\n",
    "batch_size = 64\n",
    "weight_decay = 0\n",
    "retrain = 0\n",
    "# the lr changing\n",
    "stepsize = 15\n",
    "gamma = 0.5\n",
    "\n",
    "# create model & citerion\n",
    "# model = nt.U_Net(img_ch=1, output_ch=1)\n",
    "# model = nt.U_Net_(img_ch=1, output_ch=1)\n",
    "# model = nt.ResU_Net(img_ch=1, output_ch=1)\n",
    "# model = nt.AttU_Net(img_ch=1, output_ch=1)\n",
    "model = nt.ResAttU_Net(img_ch=1, output_ch=1)\n",
    "# criterion = DiceBCELoss()\n",
    "criterion = nn.BCEWithLogitsLoss()\n",
    "\n",
    "# create SummaryWriter\n",
    "logdir = \"log/w12/\" + 'net:ResAttU ' + 'retrain:01 ' + 'loss:bce '+ 'decay:(1e-4,10,0.5) '+ 'bs:64 '\n",
    "writer = SummaryWriter(logdir)\n",
    "\n",
    "print('Setting completed!')"
   ]
  },
  {
   "cell_type": "code",
   "execution_count": 3,
   "metadata": {},
   "outputs": [
    {
     "name": "stdout",
     "output_type": "stream",
     "text": [
      "Using 2 devices.\n"
     ]
    }
   ],
   "source": [
    "# set device & parallel\n",
    "device = torch.device('cuda' if torch.cuda.is_available() else 'cpu')\n",
    "device_ids = list(range(torch.cuda.device_count()))\n",
    "model = nn.DataParallel(model, device_ids=device_ids).to(device)\n",
    "print(f'Using {len(device_ids)} devices.')"
   ]
  },
  {
   "cell_type": "code",
   "execution_count": 4,
   "metadata": {},
   "outputs": [
    {
     "name": "stdout",
     "output_type": "stream",
     "text": [
      "Data loaded\n",
      "Found 400 images and 400 labels\n",
      "Loaded 400 samples.\n",
      "Dataset completed!\n"
     ]
    }
   ],
   "source": [
    "# transform\n",
    "transform = transforms.Compose([\n",
    "    transforms.RandomHorizontalFlip(),\n",
    "    transforms.RandomVerticalFlip(),\n",
    "#    transforms.Resize((384, 384)),\n",
    "    transforms.ToTensor(),\n",
    "])\n",
    "\n",
    "# data set\n",
    "data_dir = './data'\n",
    "dataset = CropDataset(data_dir, transform=transform)\n",
    "print(f'Loaded {len(dataset)} samples.')\n",
    "# divide dataset into training and testing sets\n",
    "train_size = int(0.9 * len(dataset))\n",
    "test_size = len(dataset) - train_size\n",
    "train_dataset, test_dataset = torch.utils.data.random_split(dataset, [train_size, test_size])\n",
    "train_loader = DataLoader(train_dataset, batch_size=batch_size, shuffle=True)\n",
    "test_loader = DataLoader(test_dataset, batch_size=batch_size, shuffle=False)\n",
    "print('Dataset completed!')"
   ]
  },
  {
   "cell_type": "code",
   "execution_count": 5,
   "metadata": {},
   "outputs": [
    {
     "data": {
      "text/plain": [
       "<torch.optim.lr_scheduler.StepLR at 0x7f4e49182720>"
      ]
     },
     "execution_count": 5,
     "metadata": {},
     "output_type": "execute_result"
    }
   ],
   "source": [
    "# optimizer and criterion\n",
    "optimizer = Adam(model.parameters(), lr=lr, weight_decay=weight_decay)\n",
    "torch.optim.lr_scheduler.StepLR(optimizer, step_size=stepsize, gamma=gamma)"
   ]
  },
  {
   "cell_type": "code",
   "execution_count": 6,
   "metadata": {},
   "outputs": [],
   "source": [
    "# load pre-trained model\n",
    "if retrain:\n",
    "    model = torch.load('model.pth')\n",
    "    model.to(device)\n",
    "else:\n",
    "    model.to(device)"
   ]
  },
  {
   "cell_type": "code",
   "execution_count": 7,
   "metadata": {},
   "outputs": [
    {
     "name": "stdout",
     "output_type": "stream",
     "text": [
      "Learning rate: 0.0001; Batch size: 64; Epochs: 150\n"
     ]
    },
    {
     "name": "stderr",
     "output_type": "stream",
     "text": [
      "Epoch 1/150: 100%|████████████████████████████████████████████████████████████████████████████████████████| 6/6 [00:12<00:00,  2.03s/it, loss=0.439]\n"
     ]
    },
    {
     "name": "stdout",
     "output_type": "stream",
     "text": [
      "Epoch 1/150, Train Loss: 0.4385417881939146, Validation Loss: 0.46662282943725586\n",
      "\n"
     ]
    },
    {
     "name": "stderr",
     "output_type": "stream",
     "text": [
      "Epoch 2/150: 100%|█████████████████████████████████████████████████████████████████████████████████████████| 6/6 [00:11<00:00,  1.85s/it, loss=0.25]\n"
     ]
    },
    {
     "name": "stdout",
     "output_type": "stream",
     "text": [
      "Epoch 2/150, Train Loss: 0.24978770315647125, Validation Loss: 0.23170546690622967\n",
      "\n"
     ]
    },
    {
     "name": "stderr",
     "output_type": "stream",
     "text": [
      "Epoch 3/150: 100%|████████████████████████████████████████████████████████████████████████████████████████| 6/6 [00:11<00:00,  1.86s/it, loss=0.182]\n"
     ]
    },
    {
     "name": "stdout",
     "output_type": "stream",
     "text": [
      "Epoch 3/150, Train Loss: 0.18210537731647491, Validation Loss: 0.16064631938934326\n",
      "\n"
     ]
    },
    {
     "name": "stderr",
     "output_type": "stream",
     "text": [
      "Epoch 4/150: 100%|█████████████████████████████████████████████████████████████████████████████████████████| 6/6 [00:11<00:00,  1.88s/it, loss=0.14]\n"
     ]
    },
    {
     "name": "stdout",
     "output_type": "stream",
     "text": [
      "Epoch 4/150, Train Loss: 0.1404936607513163, Validation Loss: 0.13135769963264465\n",
      "\n"
     ]
    },
    {
     "name": "stderr",
     "output_type": "stream",
     "text": [
      "Epoch 5/150: 100%|████████████████████████████████████████████████████████████████████████████████████████| 6/6 [00:11<00:00,  1.88s/it, loss=0.112]\n"
     ]
    },
    {
     "name": "stdout",
     "output_type": "stream",
     "text": [
      "Epoch 5/150, Train Loss: 0.11176088121202259, Validation Loss: 0.10537777841091156\n",
      "\n"
     ]
    },
    {
     "name": "stderr",
     "output_type": "stream",
     "text": [
      "Epoch 6/150: 100%|███████████████████████████████████████████████████████████████████████████████████████| 6/6 [00:11<00:00,  1.86s/it, loss=0.0909]\n"
     ]
    },
    {
     "name": "stdout",
     "output_type": "stream",
     "text": [
      "Epoch 6/150, Train Loss: 0.09091712037722267, Validation Loss: 0.08453162262837093\n",
      "\n"
     ]
    },
    {
     "name": "stderr",
     "output_type": "stream",
     "text": [
      "Epoch 7/150: 100%|███████████████████████████████████████████████████████████████████████████████████████| 6/6 [00:11<00:00,  1.88s/it, loss=0.0726]\n"
     ]
    },
    {
     "name": "stdout",
     "output_type": "stream",
     "text": [
      "Epoch 7/150, Train Loss: 0.07261070981621741, Validation Loss: 0.06756031016508739\n",
      "\n"
     ]
    },
    {
     "name": "stderr",
     "output_type": "stream",
     "text": [
      "Epoch 8/150: 100%|███████████████████████████████████████████████████████████████████████████████████████| 6/6 [00:11<00:00,  1.88s/it, loss=0.0595]\n"
     ]
    },
    {
     "name": "stdout",
     "output_type": "stream",
     "text": [
      "Epoch 8/150, Train Loss: 0.05953597670627966, Validation Loss: 0.054973414788643524\n",
      "\n"
     ]
    },
    {
     "name": "stderr",
     "output_type": "stream",
     "text": [
      "Epoch 9/150: 100%|█████████████████████████████████████████████████████████████████████████████████████████| 6/6 [00:11<00:00,  1.86s/it, loss=0.05]\n"
     ]
    },
    {
     "name": "stdout",
     "output_type": "stream",
     "text": [
      "Epoch 9/150, Train Loss: 0.05001989317437014, Validation Loss: 0.045798640698194504\n",
      "\n"
     ]
    },
    {
     "name": "stderr",
     "output_type": "stream",
     "text": [
      "Epoch 10/150: 100%|██████████████████████████████████████████████████████████████████████████████████████| 6/6 [00:11<00:00,  1.84s/it, loss=0.0432]\n"
     ]
    },
    {
     "name": "stdout",
     "output_type": "stream",
     "text": [
      "Epoch 10/150, Train Loss: 0.0431927889585495, Validation Loss: 0.0391679232319196\n",
      "\n"
     ]
    },
    {
     "name": "stderr",
     "output_type": "stream",
     "text": [
      "Epoch 11/150: 100%|██████████████████████████████████████████████████████████████████████████████████████| 6/6 [00:10<00:00,  1.83s/it, loss=0.0367]\n"
     ]
    },
    {
     "name": "stdout",
     "output_type": "stream",
     "text": [
      "Epoch 11/150, Train Loss: 0.03669260224948327, Validation Loss: 0.033817597975333534\n",
      "\n"
     ]
    },
    {
     "name": "stderr",
     "output_type": "stream",
     "text": [
      "Epoch 12/150: 100%|███████████████████████████████████████████████████████████████████████████████████████| 6/6 [00:11<00:00,  1.89s/it, loss=0.032]\n"
     ]
    },
    {
     "name": "stdout",
     "output_type": "stream",
     "text": [
      "Epoch 12/150, Train Loss: 0.03199016261431906, Validation Loss: 0.03046443499624729\n",
      "\n"
     ]
    },
    {
     "name": "stderr",
     "output_type": "stream",
     "text": [
      "Epoch 13/150: 100%|██████████████████████████████████████████████████████████████████████████████████████| 6/6 [00:11<00:00,  1.87s/it, loss=0.0282]\n"
     ]
    },
    {
     "name": "stdout",
     "output_type": "stream",
     "text": [
      "Epoch 13/150, Train Loss: 0.028223101153141927, Validation Loss: 0.024891003345449764\n",
      "\n"
     ]
    },
    {
     "name": "stderr",
     "output_type": "stream",
     "text": [
      "Epoch 14/150: 100%|██████████████████████████████████████████████████████████████████████████████████████| 6/6 [00:11<00:00,  1.86s/it, loss=0.0253]\n"
     ]
    },
    {
     "name": "stdout",
     "output_type": "stream",
     "text": [
      "Epoch 14/150, Train Loss: 0.025338579590121906, Validation Loss: 0.024590531364083294\n",
      "\n"
     ]
    },
    {
     "name": "stderr",
     "output_type": "stream",
     "text": [
      "Epoch 15/150: 100%|██████████████████████████████████████████████████████████████████████████████████████| 6/6 [00:11<00:00,  1.87s/it, loss=0.0231]\n"
     ]
    },
    {
     "name": "stdout",
     "output_type": "stream",
     "text": [
      "Epoch 15/150, Train Loss: 0.02308719822516044, Validation Loss: 0.020258773739139237\n",
      "\n"
     ]
    },
    {
     "name": "stderr",
     "output_type": "stream",
     "text": [
      "Epoch 16/150: 100%|██████████████████████████████████████████████████████████████████████████████████████| 6/6 [00:11<00:00,  1.88s/it, loss=0.0208]\n"
     ]
    },
    {
     "name": "stdout",
     "output_type": "stream",
     "text": [
      "Epoch 16/150, Train Loss: 0.02077282401215699, Validation Loss: 0.017757492139935493\n",
      "\n"
     ]
    },
    {
     "name": "stderr",
     "output_type": "stream",
     "text": [
      "Epoch 17/150: 100%|██████████████████████████████████████████████████████████████████████████████████████| 6/6 [00:11<00:00,  1.86s/it, loss=0.0191]\n"
     ]
    },
    {
     "name": "stdout",
     "output_type": "stream",
     "text": [
      "Epoch 17/150, Train Loss: 0.01909460960369971, Validation Loss: 0.015713282550374668\n",
      "\n"
     ]
    },
    {
     "name": "stderr",
     "output_type": "stream",
     "text": [
      "Epoch 18/150: 100%|██████████████████████████████████████████████████████████████████████████████████████| 6/6 [00:11<00:00,  1.85s/it, loss=0.0177]\n"
     ]
    },
    {
     "name": "stdout",
     "output_type": "stream",
     "text": [
      "Epoch 18/150, Train Loss: 0.01765850620965163, Validation Loss: 0.014846399736901123\n",
      "\n"
     ]
    },
    {
     "name": "stderr",
     "output_type": "stream",
     "text": [
      "Epoch 19/150: 100%|██████████████████████████████████████████████████████████████████████████████████████| 6/6 [00:11<00:00,  1.85s/it, loss=0.0168]\n"
     ]
    },
    {
     "name": "stdout",
     "output_type": "stream",
     "text": [
      "Epoch 19/150, Train Loss: 0.016752402091191873, Validation Loss: 0.013939768075942993\n",
      "\n"
     ]
    },
    {
     "name": "stderr",
     "output_type": "stream",
     "text": [
      "Epoch 20/150: 100%|██████████████████████████████████████████████████████████████████████████████████████| 6/6 [00:11<00:00,  1.84s/it, loss=0.0157]\n"
     ]
    },
    {
     "name": "stdout",
     "output_type": "stream",
     "text": [
      "Epoch 20/150, Train Loss: 0.015709748802085716, Validation Loss: 0.012675182272990543\n",
      "\n"
     ]
    },
    {
     "name": "stderr",
     "output_type": "stream",
     "text": [
      "Epoch 21/150: 100%|██████████████████████████████████████████████████████████████████████████████████████| 6/6 [00:11<00:00,  1.85s/it, loss=0.0149]\n"
     ]
    },
    {
     "name": "stdout",
     "output_type": "stream",
     "text": [
      "Epoch 21/150, Train Loss: 0.014921836710224548, Validation Loss: 0.011754655900100868\n",
      "\n"
     ]
    },
    {
     "name": "stderr",
     "output_type": "stream",
     "text": [
      "Epoch 22/150: 100%|██████████████████████████████████████████████████████████████████████████████████████| 6/6 [00:11<00:00,  1.84s/it, loss=0.0142]\n"
     ]
    },
    {
     "name": "stdout",
     "output_type": "stream",
     "text": [
      "Epoch 22/150, Train Loss: 0.014190402088893784, Validation Loss: 0.010834404888252417\n",
      "\n"
     ]
    },
    {
     "name": "stderr",
     "output_type": "stream",
     "text": [
      "Epoch 23/150: 100%|██████████████████████████████████████████████████████████████████████████████████████| 6/6 [00:11<00:00,  1.86s/it, loss=0.0136]\n"
     ]
    },
    {
     "name": "stdout",
     "output_type": "stream",
     "text": [
      "Epoch 23/150, Train Loss: 0.013630085573014287, Validation Loss: 0.011357016550997892\n",
      "\n"
     ]
    },
    {
     "name": "stderr",
     "output_type": "stream",
     "text": [
      "Epoch 24/150: 100%|██████████████████████████████████████████████████████████████████████████████████████| 6/6 [00:11<00:00,  1.86s/it, loss=0.0124]\n"
     ]
    },
    {
     "name": "stdout",
     "output_type": "stream",
     "text": [
      "Epoch 24/150, Train Loss: 0.012356180930510163, Validation Loss: 0.009856783940146366\n",
      "\n"
     ]
    },
    {
     "name": "stderr",
     "output_type": "stream",
     "text": [
      "Epoch 25/150: 100%|██████████████████████████████████████████████████████████████████████████████████████| 6/6 [00:11<00:00,  1.86s/it, loss=0.0117]\n"
     ]
    },
    {
     "name": "stdout",
     "output_type": "stream",
     "text": [
      "Epoch 25/150, Train Loss: 0.011732679015646378, Validation Loss: 0.009680686984211206\n",
      "\n"
     ]
    },
    {
     "name": "stderr",
     "output_type": "stream",
     "text": [
      "Epoch 26/150: 100%|██████████████████████████████████████████████████████████████████████████████████████| 6/6 [00:11<00:00,  1.85s/it, loss=0.0114]\n"
     ]
    },
    {
     "name": "stdout",
     "output_type": "stream",
     "text": [
      "Epoch 26/150, Train Loss: 0.011361797236733966, Validation Loss: 0.008627455371121565\n",
      "\n"
     ]
    },
    {
     "name": "stderr",
     "output_type": "stream",
     "text": [
      "Epoch 27/150: 100%|██████████████████████████████████████████████████████████████████████████████████████| 6/6 [00:11<00:00,  1.88s/it, loss=0.0112]\n"
     ]
    },
    {
     "name": "stdout",
     "output_type": "stream",
     "text": [
      "Epoch 27/150, Train Loss: 0.011241216936873065, Validation Loss: 0.00879848562180996\n",
      "\n"
     ]
    },
    {
     "name": "stderr",
     "output_type": "stream",
     "text": [
      "Epoch 28/150: 100%|██████████████████████████████████████████████████████████████████████████████████████| 6/6 [00:11<00:00,  1.88s/it, loss=0.0106]\n"
     ]
    },
    {
     "name": "stdout",
     "output_type": "stream",
     "text": [
      "Epoch 28/150, Train Loss: 0.010627118301474385, Validation Loss: 0.008705405052751303\n",
      "\n"
     ]
    },
    {
     "name": "stderr",
     "output_type": "stream",
     "text": [
      "Epoch 29/150: 100%|██████████████████████████████████████████████████████████████████████████████████████| 6/6 [00:11<00:00,  1.86s/it, loss=0.0102]\n"
     ]
    },
    {
     "name": "stdout",
     "output_type": "stream",
     "text": [
      "Epoch 29/150, Train Loss: 0.010222437118904458, Validation Loss: 0.006930317574491103\n",
      "\n"
     ]
    },
    {
     "name": "stderr",
     "output_type": "stream",
     "text": [
      "Epoch 30/150: 100%|██████████████████████████████████████████████████████████████████████████████████████| 6/6 [00:11<00:00,  1.86s/it, loss=0.0108]\n"
     ]
    },
    {
     "name": "stdout",
     "output_type": "stream",
     "text": [
      "Epoch 30/150, Train Loss: 0.01079751727067762, Validation Loss: 0.00808636068056027\n",
      "\n"
     ]
    },
    {
     "name": "stderr",
     "output_type": "stream",
     "text": [
      "Epoch 31/150: 100%|██████████████████████████████████████████████████████████████████████████████████████| 6/6 [00:11<00:00,  1.85s/it, loss=0.0103]\n"
     ]
    },
    {
     "name": "stdout",
     "output_type": "stream",
     "text": [
      "Epoch 31/150, Train Loss: 0.010285881347954273, Validation Loss: 0.00790212272355954\n",
      "\n"
     ]
    },
    {
     "name": "stderr",
     "output_type": "stream",
     "text": [
      "Epoch 32/150: 100%|█████████████████████████████████████████████████████████████████████████████████████| 6/6 [00:11<00:00,  1.84s/it, loss=0.00961]\n"
     ]
    },
    {
     "name": "stdout",
     "output_type": "stream",
     "text": [
      "Epoch 32/150, Train Loss: 0.009614717474000322, Validation Loss: 0.0064874378343423205\n",
      "\n"
     ]
    },
    {
     "name": "stderr",
     "output_type": "stream",
     "text": [
      "Epoch 33/150: 100%|██████████████████████████████████████████████████████████████████████████████████████| 6/6 [00:11<00:00,  1.85s/it, loss=0.0103]\n"
     ]
    },
    {
     "name": "stdout",
     "output_type": "stream",
     "text": [
      "Epoch 33/150, Train Loss: 0.010321207241051728, Validation Loss: 0.008033446657160917\n",
      "\n"
     ]
    },
    {
     "name": "stderr",
     "output_type": "stream",
     "text": [
      "Epoch 34/150: 100%|█████████████████████████████████████████████████████████████████████████████████████| 6/6 [00:11<00:00,  1.85s/it, loss=0.00934]\n"
     ]
    },
    {
     "name": "stdout",
     "output_type": "stream",
     "text": [
      "Epoch 34/150, Train Loss: 0.009340375519564584, Validation Loss: 0.006116864116241535\n",
      "\n"
     ]
    },
    {
     "name": "stderr",
     "output_type": "stream",
     "text": [
      "Epoch 35/150: 100%|█████████████████████████████████████████████████████████████████████████████████████| 6/6 [00:11<00:00,  1.84s/it, loss=0.00915]\n"
     ]
    },
    {
     "name": "stdout",
     "output_type": "stream",
     "text": [
      "Epoch 35/150, Train Loss: 0.009148922399617733, Validation Loss: 0.006686190453668435\n",
      "\n"
     ]
    },
    {
     "name": "stderr",
     "output_type": "stream",
     "text": [
      "Epoch 36/150: 100%|█████████████████████████████████████████████████████████████████████████████████████| 6/6 [00:11<00:00,  1.86s/it, loss=0.00887]\n"
     ]
    },
    {
     "name": "stdout",
     "output_type": "stream",
     "text": [
      "Epoch 36/150, Train Loss: 0.008872431638236674, Validation Loss: 0.005963999855642517\n",
      "\n"
     ]
    },
    {
     "name": "stderr",
     "output_type": "stream",
     "text": [
      "Epoch 37/150: 100%|█████████████████████████████████████████████████████████████████████████████████████| 6/6 [00:11<00:00,  1.84s/it, loss=0.00871]\n"
     ]
    },
    {
     "name": "stdout",
     "output_type": "stream",
     "text": [
      "Epoch 37/150, Train Loss: 0.008707914229792854, Validation Loss: 0.005064184156556924\n",
      "\n"
     ]
    },
    {
     "name": "stderr",
     "output_type": "stream",
     "text": [
      "Epoch 38/150: 100%|█████████████████████████████████████████████████████████████████████████████████████| 6/6 [00:11<00:00,  1.85s/it, loss=0.00826]\n"
     ]
    },
    {
     "name": "stdout",
     "output_type": "stream",
     "text": [
      "Epoch 38/150, Train Loss: 0.008262415726979572, Validation Loss: 0.006403996453930935\n",
      "\n"
     ]
    },
    {
     "name": "stderr",
     "output_type": "stream",
     "text": [
      "Epoch 39/150: 100%|█████████████████████████████████████████████████████████████████████████████████████| 6/6 [00:11<00:00,  1.85s/it, loss=0.00927]\n"
     ]
    },
    {
     "name": "stdout",
     "output_type": "stream",
     "text": [
      "Epoch 39/150, Train Loss: 0.009269541763286624, Validation Loss: 0.005889272938172023\n",
      "\n"
     ]
    },
    {
     "name": "stderr",
     "output_type": "stream",
     "text": [
      "Epoch 40/150: 100%|██████████████████████████████████████████████████████████████████████████████████████| 6/6 [00:11<00:00,  1.85s/it, loss=0.0093]\n"
     ]
    },
    {
     "name": "stdout",
     "output_type": "stream",
     "text": [
      "Epoch 40/150, Train Loss: 0.009295727488481337, Validation Loss: 0.006748046648378173\n",
      "\n"
     ]
    },
    {
     "name": "stderr",
     "output_type": "stream",
     "text": [
      "Epoch 41/150: 100%|█████████████████████████████████████████████████████████████████████████████████████| 6/6 [00:11<00:00,  1.85s/it, loss=0.00916]\n"
     ]
    },
    {
     "name": "stdout",
     "output_type": "stream",
     "text": [
      "Epoch 41/150, Train Loss: 0.009163011356981264, Validation Loss: 0.005138741340488196\n",
      "\n"
     ]
    },
    {
     "name": "stderr",
     "output_type": "stream",
     "text": [
      "Epoch 42/150: 100%|█████████████████████████████████████████████████████████████████████████████████████| 6/6 [00:11<00:00,  1.84s/it, loss=0.00873]\n"
     ]
    },
    {
     "name": "stdout",
     "output_type": "stream",
     "text": [
      "Epoch 42/150, Train Loss: 0.008733256357825464, Validation Loss: 0.005314131500199437\n",
      "\n"
     ]
    },
    {
     "name": "stderr",
     "output_type": "stream",
     "text": [
      "Epoch 43/150: 100%|█████████████████████████████████████████████████████████████████████████████████████| 6/6 [00:11<00:00,  1.84s/it, loss=0.00829]\n"
     ]
    },
    {
     "name": "stdout",
     "output_type": "stream",
     "text": [
      "Epoch 43/150, Train Loss: 0.008294296024056772, Validation Loss: 0.004709600005298853\n",
      "\n"
     ]
    },
    {
     "name": "stderr",
     "output_type": "stream",
     "text": [
      "Epoch 44/150: 100%|█████████████████████████████████████████████████████████████████████████████████████| 6/6 [00:11<00:00,  1.86s/it, loss=0.00832]\n"
     ]
    },
    {
     "name": "stdout",
     "output_type": "stream",
     "text": [
      "Epoch 44/150, Train Loss: 0.00832138802959687, Validation Loss: 0.0072057962728043394\n",
      "\n"
     ]
    },
    {
     "name": "stderr",
     "output_type": "stream",
     "text": [
      "Epoch 45/150: 100%|█████████████████████████████████████████████████████████████████████████████████████| 6/6 [00:11<00:00,  1.86s/it, loss=0.00845]\n"
     ]
    },
    {
     "name": "stdout",
     "output_type": "stream",
     "text": [
      "Epoch 45/150, Train Loss: 0.008453032648604777, Validation Loss: 0.006424158268297711\n",
      "\n"
     ]
    },
    {
     "name": "stderr",
     "output_type": "stream",
     "text": [
      "Epoch 46/150: 100%|█████████████████████████████████████████████████████████████████████████████████████| 6/6 [00:11<00:00,  1.85s/it, loss=0.00822]\n"
     ]
    },
    {
     "name": "stdout",
     "output_type": "stream",
     "text": [
      "Epoch 46/150, Train Loss: 0.00822083470929, Validation Loss: 0.00419720394226412\n",
      "\n"
     ]
    },
    {
     "name": "stderr",
     "output_type": "stream",
     "text": [
      "Epoch 47/150: 100%|█████████████████████████████████████████████████████████████████████████████████████| 6/6 [00:11<00:00,  1.84s/it, loss=0.00808]\n"
     ]
    },
    {
     "name": "stdout",
     "output_type": "stream",
     "text": [
      "Epoch 47/150, Train Loss: 0.008078079463707076, Validation Loss: 0.0044376774070163565\n",
      "\n"
     ]
    },
    {
     "name": "stderr",
     "output_type": "stream",
     "text": [
      "Epoch 48/150: 100%|█████████████████████████████████████████████████████████████████████████████████████| 6/6 [00:11<00:00,  1.87s/it, loss=0.00766]\n"
     ]
    },
    {
     "name": "stdout",
     "output_type": "stream",
     "text": [
      "Epoch 48/150, Train Loss: 0.007655853651360504, Validation Loss: 0.0043262589412430925\n",
      "\n"
     ]
    },
    {
     "name": "stderr",
     "output_type": "stream",
     "text": [
      "Epoch 49/150: 100%|█████████████████████████████████████████████████████████████████████████████████████| 6/6 [00:11<00:00,  1.84s/it, loss=0.00778]\n"
     ]
    },
    {
     "name": "stdout",
     "output_type": "stream",
     "text": [
      "Epoch 49/150, Train Loss: 0.007776144051199985, Validation Loss: 0.004459289911513527\n",
      "\n"
     ]
    },
    {
     "name": "stderr",
     "output_type": "stream",
     "text": [
      "Epoch 50/150: 100%|█████████████████████████████████████████████████████████████████████████████████████| 6/6 [00:11<00:00,  1.85s/it, loss=0.00798]\n"
     ]
    },
    {
     "name": "stdout",
     "output_type": "stream",
     "text": [
      "Epoch 50/150, Train Loss: 0.007978152089183115, Validation Loss: 0.004159012266124288\n",
      "\n"
     ]
    },
    {
     "name": "stderr",
     "output_type": "stream",
     "text": [
      "Epoch 51/150: 100%|█████████████████████████████████████████████████████████████████████████████████████| 6/6 [00:11<00:00,  1.84s/it, loss=0.00755]\n"
     ]
    },
    {
     "name": "stdout",
     "output_type": "stream",
     "text": [
      "Epoch 51/150, Train Loss: 0.007547649541973241, Validation Loss: 0.005461064477761586\n",
      "\n"
     ]
    },
    {
     "name": "stderr",
     "output_type": "stream",
     "text": [
      "Epoch 52/150: 100%|█████████████████████████████████████████████████████████████████████████████████████| 6/6 [00:11<00:00,  1.89s/it, loss=0.00798]\n"
     ]
    },
    {
     "name": "stdout",
     "output_type": "stream",
     "text": [
      "Epoch 52/150, Train Loss: 0.007980696035600785, Validation Loss: 0.00787011052792271\n",
      "\n"
     ]
    },
    {
     "name": "stderr",
     "output_type": "stream",
     "text": [
      "Epoch 53/150: 100%|█████████████████████████████████████████████████████████████████████████████████████| 6/6 [00:11<00:00,  1.88s/it, loss=0.00788]\n"
     ]
    },
    {
     "name": "stdout",
     "output_type": "stream",
     "text": [
      "Epoch 53/150, Train Loss: 0.00787847418622631, Validation Loss: 0.008506673000132045\n",
      "\n"
     ]
    },
    {
     "name": "stderr",
     "output_type": "stream",
     "text": [
      "Epoch 54/150: 100%|█████████████████████████████████████████████████████████████████████████████████████| 6/6 [00:11<00:00,  1.85s/it, loss=0.00813]\n"
     ]
    },
    {
     "name": "stdout",
     "output_type": "stream",
     "text": [
      "Epoch 54/150, Train Loss: 0.00812657881114218, Validation Loss: 0.005282815817433099\n",
      "\n"
     ]
    },
    {
     "name": "stderr",
     "output_type": "stream",
     "text": [
      "Epoch 55/150: 100%|█████████████████████████████████████████████████████████████████████████████████████| 6/6 [00:11<00:00,  1.84s/it, loss=0.00805]\n"
     ]
    },
    {
     "name": "stdout",
     "output_type": "stream",
     "text": [
      "Epoch 55/150, Train Loss: 0.00805282960775205, Validation Loss: 0.0035027130118881664\n",
      "\n"
     ]
    },
    {
     "name": "stderr",
     "output_type": "stream",
     "text": [
      "Epoch 56/150: 100%|█████████████████████████████████████████████████████████████████████████████████████| 6/6 [00:11<00:00,  1.85s/it, loss=0.00709]\n"
     ]
    },
    {
     "name": "stdout",
     "output_type": "stream",
     "text": [
      "Epoch 56/150, Train Loss: 0.007088823353923443, Validation Loss: 0.00306951468034337\n",
      "\n"
     ]
    },
    {
     "name": "stderr",
     "output_type": "stream",
     "text": [
      "Epoch 57/150: 100%|█████████████████████████████████████████████████████████████████████████████████████| 6/6 [00:11<00:00,  1.84s/it, loss=0.00707]\n"
     ]
    },
    {
     "name": "stdout",
     "output_type": "stream",
     "text": [
      "Epoch 57/150, Train Loss: 0.00706898659053776, Validation Loss: 0.004777476812402408\n",
      "\n"
     ]
    },
    {
     "name": "stderr",
     "output_type": "stream",
     "text": [
      "Epoch 58/150: 100%|█████████████████████████████████████████████████████████████████████████████████████| 6/6 [00:11<00:00,  1.85s/it, loss=0.00637]\n"
     ]
    },
    {
     "name": "stdout",
     "output_type": "stream",
     "text": [
      "Epoch 58/150, Train Loss: 0.006372823004817798, Validation Loss: 0.004486109285304944\n",
      "\n"
     ]
    },
    {
     "name": "stderr",
     "output_type": "stream",
     "text": [
      "Epoch 59/150: 100%|█████████████████████████████████████████████████████████████████████████████████████| 6/6 [00:11<00:00,  1.84s/it, loss=0.00727]\n"
     ]
    },
    {
     "name": "stdout",
     "output_type": "stream",
     "text": [
      "Epoch 59/150, Train Loss: 0.007273531357188607, Validation Loss: 0.003431552128555874\n",
      "\n"
     ]
    },
    {
     "name": "stderr",
     "output_type": "stream",
     "text": [
      "Epoch 60/150: 100%|█████████████████████████████████████████████████████████████████████████████████████| 6/6 [00:11<00:00,  1.84s/it, loss=0.00743]\n"
     ]
    },
    {
     "name": "stdout",
     "output_type": "stream",
     "text": [
      "Epoch 60/150, Train Loss: 0.007430250581819564, Validation Loss: 0.004948124017876883\n",
      "\n"
     ]
    },
    {
     "name": "stderr",
     "output_type": "stream",
     "text": [
      "Epoch 61/150: 100%|█████████████████████████████████████████████████████████████████████████████████████| 6/6 [00:11<00:00,  1.85s/it, loss=0.00783]\n"
     ]
    },
    {
     "name": "stdout",
     "output_type": "stream",
     "text": [
      "Epoch 61/150, Train Loss: 0.007829819948205518, Validation Loss: 0.005075801940013965\n",
      "\n"
     ]
    },
    {
     "name": "stderr",
     "output_type": "stream",
     "text": [
      "Epoch 62/150: 100%|█████████████████████████████████████████████████████████████████████████████████████| 6/6 [00:11<00:00,  1.86s/it, loss=0.00724]\n"
     ]
    },
    {
     "name": "stdout",
     "output_type": "stream",
     "text": [
      "Epoch 62/150, Train Loss: 0.007240914577980424, Validation Loss: 0.004387100227177143\n",
      "\n"
     ]
    },
    {
     "name": "stderr",
     "output_type": "stream",
     "text": [
      "Epoch 63/150: 100%|█████████████████████████████████████████████████████████████████████████████████████| 6/6 [00:11<00:00,  1.85s/it, loss=0.00782]\n"
     ]
    },
    {
     "name": "stdout",
     "output_type": "stream",
     "text": [
      "Epoch 63/150, Train Loss: 0.007820631235113574, Validation Loss: 0.0038707860512658954\n",
      "\n"
     ]
    },
    {
     "name": "stderr",
     "output_type": "stream",
     "text": [
      "Epoch 64/150: 100%|█████████████████████████████████████████████████████████████████████████████████████| 6/6 [00:11<00:00,  1.84s/it, loss=0.00681]\n"
     ]
    },
    {
     "name": "stdout",
     "output_type": "stream",
     "text": [
      "Epoch 64/150, Train Loss: 0.006807159625976864, Validation Loss: 0.00869831241046389\n",
      "\n"
     ]
    },
    {
     "name": "stderr",
     "output_type": "stream",
     "text": [
      "Epoch 65/150: 100%|█████████████████████████████████████████████████████████████████████████████████████| 6/6 [00:11<00:00,  1.85s/it, loss=0.00744]\n"
     ]
    },
    {
     "name": "stdout",
     "output_type": "stream",
     "text": [
      "Epoch 65/150, Train Loss: 0.007435792856591028, Validation Loss: 0.004350350432408352\n",
      "\n"
     ]
    },
    {
     "name": "stderr",
     "output_type": "stream",
     "text": [
      "Epoch 66/150: 100%|█████████████████████████████████████████████████████████████████████████████████████| 6/6 [00:11<00:00,  1.85s/it, loss=0.00733]\n"
     ]
    },
    {
     "name": "stdout",
     "output_type": "stream",
     "text": [
      "Epoch 66/150, Train Loss: 0.007325554130754122, Validation Loss: 0.0036280465234691897\n",
      "\n"
     ]
    },
    {
     "name": "stderr",
     "output_type": "stream",
     "text": [
      "Epoch 67/150: 100%|██████████████████████████████████████████████████████████████████████████████████████| 6/6 [00:11<00:00,  1.84s/it, loss=0.0077]\n"
     ]
    },
    {
     "name": "stdout",
     "output_type": "stream",
     "text": [
      "Epoch 67/150, Train Loss: 0.007698230516527675, Validation Loss: 0.004097504812913636\n",
      "\n"
     ]
    },
    {
     "name": "stderr",
     "output_type": "stream",
     "text": [
      "Epoch 68/150: 100%|█████████████████████████████████████████████████████████████████████████████████████| 6/6 [00:11<00:00,  1.86s/it, loss=0.00833]\n"
     ]
    },
    {
     "name": "stdout",
     "output_type": "stream",
     "text": [
      "Epoch 68/150, Train Loss: 0.008333015249162499, Validation Loss: 0.004434003572290143\n",
      "\n"
     ]
    },
    {
     "name": "stderr",
     "output_type": "stream",
     "text": [
      "Epoch 69/150: 100%|█████████████████████████████████████████████████████████████████████████████████████| 6/6 [00:11<00:00,  1.86s/it, loss=0.00763]\n"
     ]
    },
    {
     "name": "stdout",
     "output_type": "stream",
     "text": [
      "Epoch 69/150, Train Loss: 0.007633842456723668, Validation Loss: 0.004492703087938329\n",
      "\n"
     ]
    },
    {
     "name": "stderr",
     "output_type": "stream",
     "text": [
      "Epoch 70/150: 100%|█████████████████████████████████████████████████████████████████████████████████████| 6/6 [00:11<00:00,  1.88s/it, loss=0.00688]\n"
     ]
    },
    {
     "name": "stdout",
     "output_type": "stream",
     "text": [
      "Epoch 70/150, Train Loss: 0.006883061102901895, Validation Loss: 0.0041817796882241964\n",
      "\n"
     ]
    },
    {
     "name": "stderr",
     "output_type": "stream",
     "text": [
      "Epoch 71/150: 100%|█████████████████████████████████████████████████████████████████████████████████████| 6/6 [00:11<00:00,  1.87s/it, loss=0.00742]\n"
     ]
    },
    {
     "name": "stdout",
     "output_type": "stream",
     "text": [
      "Epoch 71/150, Train Loss: 0.0074167898468052345, Validation Loss: 0.0041019765970607604\n",
      "\n"
     ]
    },
    {
     "name": "stderr",
     "output_type": "stream",
     "text": [
      "Epoch 72/150: 100%|█████████████████████████████████████████████████████████████████████████████████████| 6/6 [00:11<00:00,  1.85s/it, loss=0.00728]\n"
     ]
    },
    {
     "name": "stdout",
     "output_type": "stream",
     "text": [
      "Epoch 72/150, Train Loss: 0.007279020404287924, Validation Loss: 0.0030512923840433363\n",
      "\n"
     ]
    },
    {
     "name": "stderr",
     "output_type": "stream",
     "text": [
      "Epoch 73/150: 100%|█████████████████████████████████████████████████████████████████████████████████████| 6/6 [00:11<00:00,  1.84s/it, loss=0.00668]\n"
     ]
    },
    {
     "name": "stdout",
     "output_type": "stream",
     "text": [
      "Epoch 73/150, Train Loss: 0.0066802885913704, Validation Loss: 0.004001577966846526\n",
      "\n"
     ]
    },
    {
     "name": "stderr",
     "output_type": "stream",
     "text": [
      "Epoch 74/150: 100%|█████████████████████████████████████████████████████████████████████████████████████| 6/6 [00:11<00:00,  1.86s/it, loss=0.00718]\n"
     ]
    },
    {
     "name": "stdout",
     "output_type": "stream",
     "text": [
      "Epoch 74/150, Train Loss: 0.007178746513091028, Validation Loss: 0.006463143431271116\n",
      "\n"
     ]
    },
    {
     "name": "stderr",
     "output_type": "stream",
     "text": [
      "Epoch 75/150: 100%|█████████████████████████████████████████████████████████████████████████████████████| 6/6 [00:11<00:00,  1.88s/it, loss=0.00733]\n"
     ]
    },
    {
     "name": "stdout",
     "output_type": "stream",
     "text": [
      "Epoch 75/150, Train Loss: 0.007333780845834151, Validation Loss: 0.004036815875830749\n",
      "\n"
     ]
    },
    {
     "name": "stderr",
     "output_type": "stream",
     "text": [
      "Epoch 76/150: 100%|█████████████████████████████████████████████████████████████████████████████████████| 6/6 [00:11<00:00,  1.84s/it, loss=0.00724]\n"
     ]
    },
    {
     "name": "stdout",
     "output_type": "stream",
     "text": [
      "Epoch 76/150, Train Loss: 0.007236165427861528, Validation Loss: 0.003549600854360809\n",
      "\n"
     ]
    },
    {
     "name": "stderr",
     "output_type": "stream",
     "text": [
      "Epoch 77/150: 100%|█████████████████████████████████████████████████████████████████████████████████████| 6/6 [00:11<00:00,  1.85s/it, loss=0.00698]\n"
     ]
    },
    {
     "name": "stdout",
     "output_type": "stream",
     "text": [
      "Epoch 77/150, Train Loss: 0.006975271732598129, Validation Loss: 0.007988293674619248\n",
      "\n"
     ]
    },
    {
     "name": "stderr",
     "output_type": "stream",
     "text": [
      "Epoch 78/150: 100%|██████████████████████████████████████████████████████████████████████████████████████| 6/6 [00:11<00:00,  1.84s/it, loss=0.0068]\n"
     ]
    },
    {
     "name": "stdout",
     "output_type": "stream",
     "text": [
      "Epoch 78/150, Train Loss: 0.006804989993623975, Validation Loss: 0.004412856049990903\n",
      "\n"
     ]
    },
    {
     "name": "stderr",
     "output_type": "stream",
     "text": [
      "Epoch 79/150: 100%|█████████████████████████████████████████████████████████████████████████████████████| 6/6 [00:11<00:00,  1.84s/it, loss=0.00748]\n"
     ]
    },
    {
     "name": "stdout",
     "output_type": "stream",
     "text": [
      "Epoch 79/150, Train Loss: 0.0074835085348847, Validation Loss: 0.003943937597796321\n",
      "\n"
     ]
    },
    {
     "name": "stderr",
     "output_type": "stream",
     "text": [
      "Epoch 80/150: 100%|█████████████████████████████████████████████████████████████████████████████████████| 6/6 [00:11<00:00,  1.87s/it, loss=0.00677]\n"
     ]
    },
    {
     "name": "stdout",
     "output_type": "stream",
     "text": [
      "Epoch 80/150, Train Loss: 0.006771532779869934, Validation Loss: 0.0033560529894505935\n",
      "\n"
     ]
    },
    {
     "name": "stderr",
     "output_type": "stream",
     "text": [
      "Epoch 81/150: 100%|█████████████████████████████████████████████████████████████████████████████████████| 6/6 [00:11<00:00,  1.85s/it, loss=0.00675]\n"
     ]
    },
    {
     "name": "stdout",
     "output_type": "stream",
     "text": [
      "Epoch 81/150, Train Loss: 0.006749106655156034, Validation Loss: 0.002654868585523218\n",
      "\n"
     ]
    },
    {
     "name": "stderr",
     "output_type": "stream",
     "text": [
      "Epoch 82/150: 100%|█████████████████████████████████████████████████████████████████████████████████████| 6/6 [00:11<00:00,  1.87s/it, loss=0.00662]\n"
     ]
    },
    {
     "name": "stdout",
     "output_type": "stream",
     "text": [
      "Epoch 82/150, Train Loss: 0.006619100640010503, Validation Loss: 0.003858760445533941\n",
      "\n"
     ]
    },
    {
     "name": "stderr",
     "output_type": "stream",
     "text": [
      "Epoch 83/150: 100%|█████████████████████████████████████████████████████████████████████████████████████| 6/6 [00:11<00:00,  1.86s/it, loss=0.00619]\n"
     ]
    },
    {
     "name": "stdout",
     "output_type": "stream",
     "text": [
      "Epoch 83/150, Train Loss: 0.006194908042541807, Validation Loss: 0.0036581621776955826\n",
      "\n"
     ]
    },
    {
     "name": "stderr",
     "output_type": "stream",
     "text": [
      "Epoch 84/150: 100%|█████████████████████████████████████████████████████████████████████████████████████| 6/6 [00:11<00:00,  1.86s/it, loss=0.00764]\n"
     ]
    },
    {
     "name": "stdout",
     "output_type": "stream",
     "text": [
      "Epoch 84/150, Train Loss: 0.007640803866605793, Validation Loss: 0.005802059662528336\n",
      "\n"
     ]
    },
    {
     "name": "stderr",
     "output_type": "stream",
     "text": [
      "Epoch 85/150: 100%|█████████████████████████████████████████████████████████████████████████████████████| 6/6 [00:11<00:00,  1.87s/it, loss=0.00614]\n"
     ]
    },
    {
     "name": "stdout",
     "output_type": "stream",
     "text": [
      "Epoch 85/150, Train Loss: 0.0061406364548020065, Validation Loss: 0.0033479341461012764\n",
      "\n"
     ]
    },
    {
     "name": "stderr",
     "output_type": "stream",
     "text": [
      "Epoch 86/150: 100%|█████████████████████████████████████████████████████████████████████████████████████| 6/6 [00:11<00:00,  1.84s/it, loss=0.00658]\n"
     ]
    },
    {
     "name": "stdout",
     "output_type": "stream",
     "text": [
      "Epoch 86/150, Train Loss: 0.006581284409751081, Validation Loss: 0.005584731639828533\n",
      "\n"
     ]
    },
    {
     "name": "stderr",
     "output_type": "stream",
     "text": [
      "Epoch 87/150: 100%|█████████████████████████████████████████████████████████████████████████████████████| 6/6 [00:11<00:00,  1.84s/it, loss=0.00756]\n"
     ]
    },
    {
     "name": "stdout",
     "output_type": "stream",
     "text": [
      "Epoch 87/150, Train Loss: 0.007562749036070374, Validation Loss: 0.003212156977194051\n",
      "\n"
     ]
    },
    {
     "name": "stderr",
     "output_type": "stream",
     "text": [
      "Epoch 88/150: 100%|█████████████████████████████████████████████████████████████████████████████████████| 6/6 [00:11<00:00,  1.85s/it, loss=0.00654]\n"
     ]
    },
    {
     "name": "stdout",
     "output_type": "stream",
     "text": [
      "Epoch 88/150, Train Loss: 0.006544005507344586, Validation Loss: 0.0031413101824000478\n",
      "\n"
     ]
    },
    {
     "name": "stderr",
     "output_type": "stream",
     "text": [
      "Epoch 89/150: 100%|█████████████████████████████████████████████████████████████████████████████████████| 6/6 [00:11<00:00,  1.86s/it, loss=0.00611]\n"
     ]
    },
    {
     "name": "stdout",
     "output_type": "stream",
     "text": [
      "Epoch 89/150, Train Loss: 0.006107216836729397, Validation Loss: 0.004237536321549366\n",
      "\n"
     ]
    },
    {
     "name": "stderr",
     "output_type": "stream",
     "text": [
      "Epoch 90/150: 100%|██████████████████████████████████████████████████████████████████████████████████████| 6/6 [00:11<00:00,  1.85s/it, loss=0.0069]\n"
     ]
    },
    {
     "name": "stdout",
     "output_type": "stream",
     "text": [
      "Epoch 90/150, Train Loss: 0.006899543523710842, Validation Loss: 0.004243515548296274\n",
      "\n"
     ]
    },
    {
     "name": "stderr",
     "output_type": "stream",
     "text": [
      "Epoch 91/150: 100%|█████████████████████████████████████████████████████████████████████████████████████| 6/6 [00:11<00:00,  1.85s/it, loss=0.00787]\n"
     ]
    },
    {
     "name": "stdout",
     "output_type": "stream",
     "text": [
      "Epoch 91/150, Train Loss: 0.007870117315582724, Validation Loss: 0.003040428215172142\n",
      "\n"
     ]
    },
    {
     "name": "stderr",
     "output_type": "stream",
     "text": [
      "Epoch 92/150: 100%|█████████████████████████████████████████████████████████████████████████████████████| 6/6 [00:11<00:00,  1.84s/it, loss=0.00691]\n"
     ]
    },
    {
     "name": "stdout",
     "output_type": "stream",
     "text": [
      "Epoch 92/150, Train Loss: 0.006910689126622553, Validation Loss: 0.0040822835483898725\n",
      "\n"
     ]
    },
    {
     "name": "stderr",
     "output_type": "stream",
     "text": [
      "Epoch 93/150: 100%|█████████████████████████████████████████████████████████████████████████████████████| 6/6 [00:11<00:00,  1.84s/it, loss=0.00732]\n"
     ]
    },
    {
     "name": "stdout",
     "output_type": "stream",
     "text": [
      "Epoch 93/150, Train Loss: 0.007318549724813137, Validation Loss: 0.004438930249307304\n",
      "\n"
     ]
    },
    {
     "name": "stderr",
     "output_type": "stream",
     "text": [
      "Epoch 94/150: 100%|█████████████████████████████████████████████████████████████████████████████████████| 6/6 [00:11<00:00,  1.85s/it, loss=0.00711]\n"
     ]
    },
    {
     "name": "stdout",
     "output_type": "stream",
     "text": [
      "Epoch 94/150, Train Loss: 0.0071061901592959975, Validation Loss: 0.003897691533590357\n",
      "\n"
     ]
    },
    {
     "name": "stderr",
     "output_type": "stream",
     "text": [
      "Epoch 95/150: 100%|█████████████████████████████████████████████████████████████████████████████████████| 6/6 [00:11<00:00,  1.84s/it, loss=0.00579]\n"
     ]
    },
    {
     "name": "stdout",
     "output_type": "stream",
     "text": [
      "Epoch 95/150, Train Loss: 0.00579442699219928, Validation Loss: 0.003626005064385633\n",
      "\n"
     ]
    },
    {
     "name": "stderr",
     "output_type": "stream",
     "text": [
      "Epoch 96/150: 100%|█████████████████████████████████████████████████████████████████████████████████████| 6/6 [00:11<00:00,  1.84s/it, loss=0.00701]\n"
     ]
    },
    {
     "name": "stdout",
     "output_type": "stream",
     "text": [
      "Epoch 96/150, Train Loss: 0.007008113203078714, Validation Loss: 0.003377268207259476\n",
      "\n"
     ]
    },
    {
     "name": "stderr",
     "output_type": "stream",
     "text": [
      "Epoch 97/150: 100%|█████████████████████████████████████████████████████████████████████████████████████| 6/6 [00:11<00:00,  1.84s/it, loss=0.00705]\n"
     ]
    },
    {
     "name": "stdout",
     "output_type": "stream",
     "text": [
      "Epoch 97/150, Train Loss: 0.007052024483628984, Validation Loss: 0.004806249518878758\n",
      "\n"
     ]
    },
    {
     "name": "stderr",
     "output_type": "stream",
     "text": [
      "Epoch 98/150: 100%|█████████████████████████████████████████████████████████████████████████████████████| 6/6 [00:11<00:00,  1.86s/it, loss=0.00615]\n"
     ]
    },
    {
     "name": "stdout",
     "output_type": "stream",
     "text": [
      "Epoch 98/150, Train Loss: 0.006151281672322917, Validation Loss: 0.004771174067476143\n",
      "\n"
     ]
    },
    {
     "name": "stderr",
     "output_type": "stream",
     "text": [
      "Epoch 99/150: 100%|██████████████████████████████████████████████████████████████████████████████████████| 6/6 [00:11<00:00,  1.84s/it, loss=0.0072]\n"
     ]
    },
    {
     "name": "stdout",
     "output_type": "stream",
     "text": [
      "Epoch 99/150, Train Loss: 0.007197734903052657, Validation Loss: 0.003539054421707988\n",
      "\n"
     ]
    },
    {
     "name": "stderr",
     "output_type": "stream",
     "text": [
      "Epoch 100/150: 100%|████████████████████████████████████████████████████████████████████████████████████| 6/6 [00:11<00:00,  1.86s/it, loss=0.00693]\n"
     ]
    },
    {
     "name": "stdout",
     "output_type": "stream",
     "text": [
      "Epoch 100/150, Train Loss: 0.0069320546786507805, Validation Loss: 0.0031959612970240414\n",
      "\n"
     ]
    },
    {
     "name": "stderr",
     "output_type": "stream",
     "text": [
      "Epoch 101/150: 100%|████████████████████████████████████████████████████████████████████████████████████| 6/6 [00:11<00:00,  1.85s/it, loss=0.00647]\n"
     ]
    },
    {
     "name": "stdout",
     "output_type": "stream",
     "text": [
      "Epoch 101/150, Train Loss: 0.006468728605088674, Validation Loss: 0.004145339344783376\n",
      "\n"
     ]
    },
    {
     "name": "stderr",
     "output_type": "stream",
     "text": [
      "Epoch 102/150: 100%|████████████████████████████████████████████████████████████████████████████████████| 6/6 [00:11<00:00,  1.84s/it, loss=0.00649]\n"
     ]
    },
    {
     "name": "stdout",
     "output_type": "stream",
     "text": [
      "Epoch 102/150, Train Loss: 0.006487942145516474, Validation Loss: 0.0034827806715232628\n",
      "\n"
     ]
    },
    {
     "name": "stderr",
     "output_type": "stream",
     "text": [
      "Epoch 103/150: 100%|████████████████████████████████████████████████████████████████████████████████████| 6/6 [00:11<00:00,  1.87s/it, loss=0.00669]\n"
     ]
    },
    {
     "name": "stdout",
     "output_type": "stream",
     "text": [
      "Epoch 103/150, Train Loss: 0.00668552247225307, Validation Loss: 0.00322729741067936\n",
      "\n"
     ]
    },
    {
     "name": "stderr",
     "output_type": "stream",
     "text": [
      "Epoch 104/150: 100%|████████████████████████████████████████████████████████████████████████████████████| 6/6 [00:11<00:00,  1.85s/it, loss=0.00609]\n"
     ]
    },
    {
     "name": "stdout",
     "output_type": "stream",
     "text": [
      "Epoch 104/150, Train Loss: 0.006094870687876311, Validation Loss: 0.003921423010372867\n",
      "\n"
     ]
    },
    {
     "name": "stderr",
     "output_type": "stream",
     "text": [
      "Epoch 105/150: 100%|████████████████████████████████████████████████████████████████████████████████████| 6/6 [00:11<00:00,  1.84s/it, loss=0.00613]\n"
     ]
    },
    {
     "name": "stdout",
     "output_type": "stream",
     "text": [
      "Epoch 105/150, Train Loss: 0.006132566560861758, Validation Loss: 0.004522352751034002\n",
      "\n"
     ]
    },
    {
     "name": "stderr",
     "output_type": "stream",
     "text": [
      "Epoch 106/150: 100%|████████████████████████████████████████████████████████████████████████████████████| 6/6 [00:11<00:00,  1.86s/it, loss=0.00635]\n"
     ]
    },
    {
     "name": "stdout",
     "output_type": "stream",
     "text": [
      "Epoch 106/150, Train Loss: 0.006353548711760797, Validation Loss: 0.002718244038987905\n",
      "\n"
     ]
    },
    {
     "name": "stderr",
     "output_type": "stream",
     "text": [
      "Epoch 107/150: 100%|████████████████████████████████████████████████████████████████████████████████████| 6/6 [00:11<00:00,  1.86s/it, loss=0.00653]\n"
     ]
    },
    {
     "name": "stdout",
     "output_type": "stream",
     "text": [
      "Epoch 107/150, Train Loss: 0.006530311812336247, Validation Loss: 0.0028822474220457175\n",
      "\n"
     ]
    },
    {
     "name": "stderr",
     "output_type": "stream",
     "text": [
      "Epoch 108/150: 100%|████████████████████████████████████████████████████████████████████████████████████| 6/6 [00:11<00:00,  1.86s/it, loss=0.00583]\n"
     ]
    },
    {
     "name": "stdout",
     "output_type": "stream",
     "text": [
      "Epoch 108/150, Train Loss: 0.005828143944705111, Validation Loss: 0.004266513686161489\n",
      "\n"
     ]
    },
    {
     "name": "stderr",
     "output_type": "stream",
     "text": [
      "Epoch 109/150: 100%|████████████████████████████████████████████████████████████████████████████████████| 6/6 [00:11<00:00,  1.85s/it, loss=0.00631]\n"
     ]
    },
    {
     "name": "stdout",
     "output_type": "stream",
     "text": [
      "Epoch 109/150, Train Loss: 0.006314393372223196, Validation Loss: 0.0047503099000702305\n",
      "\n"
     ]
    },
    {
     "name": "stderr",
     "output_type": "stream",
     "text": [
      "Epoch 110/150: 100%|████████████████████████████████████████████████████████████████████████████████████| 6/6 [00:11<00:00,  1.86s/it, loss=0.00586]\n"
     ]
    },
    {
     "name": "stdout",
     "output_type": "stream",
     "text": [
      "Epoch 110/150, Train Loss: 0.005859605334181752, Validation Loss: 0.0040226006919207675\n",
      "\n"
     ]
    },
    {
     "name": "stderr",
     "output_type": "stream",
     "text": [
      "Epoch 111/150: 100%|████████████████████████████████████████████████████████████████████████████████████| 6/6 [00:11<00:00,  1.85s/it, loss=0.00559]\n"
     ]
    },
    {
     "name": "stdout",
     "output_type": "stream",
     "text": [
      "Epoch 111/150, Train Loss: 0.005588038252123321, Validation Loss: 0.003924053841425727\n",
      "\n"
     ]
    },
    {
     "name": "stderr",
     "output_type": "stream",
     "text": [
      "Epoch 112/150: 100%|████████████████████████████████████████████████████████████████████████████████████| 6/6 [00:11<00:00,  1.84s/it, loss=0.00647]\n"
     ]
    },
    {
     "name": "stdout",
     "output_type": "stream",
     "text": [
      "Epoch 112/150, Train Loss: 0.006465828291968341, Validation Loss: 0.004008842244123419\n",
      "\n"
     ]
    },
    {
     "name": "stderr",
     "output_type": "stream",
     "text": [
      "Epoch 113/150: 100%|█████████████████████████████████████████████████████████████████████████████████████| 6/6 [00:11<00:00,  1.85s/it, loss=0.0062]\n"
     ]
    },
    {
     "name": "stdout",
     "output_type": "stream",
     "text": [
      "Epoch 113/150, Train Loss: 0.006198219935564945, Validation Loss: 0.004499594797380269\n",
      "\n"
     ]
    },
    {
     "name": "stderr",
     "output_type": "stream",
     "text": [
      "Epoch 114/150: 100%|████████████████████████████████████████████████████████████████████████████████████| 6/6 [00:11<00:00,  1.87s/it, loss=0.00702]\n"
     ]
    },
    {
     "name": "stdout",
     "output_type": "stream",
     "text": [
      "Epoch 114/150, Train Loss: 0.007016595312355396, Validation Loss: 0.0029827552692343793\n",
      "\n"
     ]
    },
    {
     "name": "stderr",
     "output_type": "stream",
     "text": [
      "Epoch 115/150: 100%|████████████████████████████████████████████████████████████████████████████████████| 6/6 [00:11<00:00,  1.87s/it, loss=0.00629]\n"
     ]
    },
    {
     "name": "stdout",
     "output_type": "stream",
     "text": [
      "Epoch 115/150, Train Loss: 0.006289264717553225, Validation Loss: 0.005780895395825307\n",
      "\n"
     ]
    },
    {
     "name": "stderr",
     "output_type": "stream",
     "text": [
      "Epoch 116/150: 100%|████████████████████████████████████████████████████████████████████████████████████| 6/6 [00:11<00:00,  1.85s/it, loss=0.00685]\n"
     ]
    },
    {
     "name": "stdout",
     "output_type": "stream",
     "text": [
      "Epoch 116/150, Train Loss: 0.006845699531064991, Validation Loss: 0.005064664641395211\n",
      "\n"
     ]
    },
    {
     "name": "stderr",
     "output_type": "stream",
     "text": [
      "Epoch 117/150: 100%|████████████████████████████████████████████████████████████████████████████████████| 6/6 [00:11<00:00,  1.85s/it, loss=0.00678]\n"
     ]
    },
    {
     "name": "stdout",
     "output_type": "stream",
     "text": [
      "Epoch 117/150, Train Loss: 0.006777583582637212, Validation Loss: 0.003935992775950581\n",
      "\n"
     ]
    },
    {
     "name": "stderr",
     "output_type": "stream",
     "text": [
      "Epoch 118/150: 100%|████████████████████████████████████████████████████████████████████████████████████| 6/6 [00:11<00:00,  1.85s/it, loss=0.00599]\n"
     ]
    },
    {
     "name": "stdout",
     "output_type": "stream",
     "text": [
      "Epoch 118/150, Train Loss: 0.005987826016886781, Validation Loss: 0.0040308989700861275\n",
      "\n"
     ]
    },
    {
     "name": "stderr",
     "output_type": "stream",
     "text": [
      "Epoch 119/150: 100%|████████████████████████████████████████████████████████████████████████████████████| 6/6 [00:11<00:00,  1.85s/it, loss=0.00606]\n"
     ]
    },
    {
     "name": "stdout",
     "output_type": "stream",
     "text": [
      "Epoch 119/150, Train Loss: 0.006060538038986527, Validation Loss: 0.004339597925233344\n",
      "\n"
     ]
    },
    {
     "name": "stderr",
     "output_type": "stream",
     "text": [
      "Epoch 120/150: 100%|████████████████████████████████████████████████████████████████████████████████████| 6/6 [00:11<00:00,  1.85s/it, loss=0.00594]\n"
     ]
    },
    {
     "name": "stdout",
     "output_type": "stream",
     "text": [
      "Epoch 120/150, Train Loss: 0.005938954607699998, Validation Loss: 0.004478370120826488\n",
      "\n"
     ]
    },
    {
     "name": "stderr",
     "output_type": "stream",
     "text": [
      "Epoch 121/150: 100%|████████████████████████████████████████████████████████████████████████████████████| 6/6 [00:11<00:00,  1.84s/it, loss=0.00559]\n"
     ]
    },
    {
     "name": "stdout",
     "output_type": "stream",
     "text": [
      "Epoch 121/150, Train Loss: 0.005587931643175478, Validation Loss: 0.003482795475671689\n",
      "\n"
     ]
    },
    {
     "name": "stderr",
     "output_type": "stream",
     "text": [
      "Epoch 122/150: 100%|████████████████████████████████████████████████████████████████████████████████████| 6/6 [00:11<00:00,  1.85s/it, loss=0.00602]\n"
     ]
    },
    {
     "name": "stdout",
     "output_type": "stream",
     "text": [
      "Epoch 122/150, Train Loss: 0.0060196744371852325, Validation Loss: 0.00590489330352284\n",
      "\n"
     ]
    },
    {
     "name": "stderr",
     "output_type": "stream",
     "text": [
      "Epoch 123/150: 100%|█████████████████████████████████████████████████████████████████████████████████████| 6/6 [00:11<00:00,  1.84s/it, loss=0.0064]\n"
     ]
    },
    {
     "name": "stdout",
     "output_type": "stream",
     "text": [
      "Epoch 123/150, Train Loss: 0.006397420385231574, Validation Loss: 0.0033012120984494686\n",
      "\n"
     ]
    },
    {
     "name": "stderr",
     "output_type": "stream",
     "text": [
      "Epoch 124/150: 100%|████████████████████████████████████████████████████████████████████████████████████| 6/6 [00:11<00:00,  1.87s/it, loss=0.00605]\n"
     ]
    },
    {
     "name": "stdout",
     "output_type": "stream",
     "text": [
      "Epoch 124/150, Train Loss: 0.0060471738866504495, Validation Loss: 0.002631371268459285\n",
      "\n"
     ]
    },
    {
     "name": "stderr",
     "output_type": "stream",
     "text": [
      "Epoch 125/150: 100%|████████████████████████████████████████████████████████████████████████████████████| 6/6 [00:11<00:00,  1.89s/it, loss=0.00641]\n"
     ]
    },
    {
     "name": "stdout",
     "output_type": "stream",
     "text": [
      "Epoch 125/150, Train Loss: 0.0064148967244869294, Validation Loss: 0.0036312280572019517\n",
      "\n"
     ]
    },
    {
     "name": "stderr",
     "output_type": "stream",
     "text": [
      "Epoch 126/150: 100%|████████████████████████████████████████████████████████████████████████████████████| 6/6 [00:11<00:00,  1.85s/it, loss=0.00623]\n"
     ]
    },
    {
     "name": "stdout",
     "output_type": "stream",
     "text": [
      "Epoch 126/150, Train Loss: 0.006228364987893858, Validation Loss: 0.003002472260656456\n",
      "\n"
     ]
    },
    {
     "name": "stderr",
     "output_type": "stream",
     "text": [
      "Epoch 127/150: 100%|████████████████████████████████████████████████████████████████████████████████████| 6/6 [00:11<00:00,  1.84s/it, loss=0.00549]\n"
     ]
    },
    {
     "name": "stdout",
     "output_type": "stream",
     "text": [
      "Epoch 127/150, Train Loss: 0.0054927245413030805, Validation Loss: 0.00319765069677184\n",
      "\n"
     ]
    },
    {
     "name": "stderr",
     "output_type": "stream",
     "text": [
      "Epoch 128/150: 100%|████████████████████████████████████████████████████████████████████████████████████| 6/6 [00:11<00:00,  1.85s/it, loss=0.00542]\n"
     ]
    },
    {
     "name": "stdout",
     "output_type": "stream",
     "text": [
      "Epoch 128/150, Train Loss: 0.005423817400393698, Validation Loss: 0.0019486880531379334\n",
      "\n"
     ]
    },
    {
     "name": "stderr",
     "output_type": "stream",
     "text": [
      "Epoch 129/150: 100%|████████████████████████████████████████████████████████████████████████████████████| 6/6 [00:11<00:00,  1.85s/it, loss=0.00581]\n"
     ]
    },
    {
     "name": "stdout",
     "output_type": "stream",
     "text": [
      "Epoch 129/150, Train Loss: 0.005807991923777283, Validation Loss: 0.003558466404986878\n",
      "\n"
     ]
    },
    {
     "name": "stderr",
     "output_type": "stream",
     "text": [
      "Epoch 130/150: 100%|████████████████████████████████████████████████████████████████████████████████████| 6/6 [00:11<00:00,  1.83s/it, loss=0.00585]\n"
     ]
    },
    {
     "name": "stdout",
     "output_type": "stream",
     "text": [
      "Epoch 130/150, Train Loss: 0.005845127510838211, Validation Loss: 0.003916293596072743\n",
      "\n"
     ]
    },
    {
     "name": "stderr",
     "output_type": "stream",
     "text": [
      "Epoch 131/150: 100%|████████████████████████████████████████████████████████████████████████████████████| 6/6 [00:11<00:00,  1.84s/it, loss=0.00619]\n"
     ]
    },
    {
     "name": "stdout",
     "output_type": "stream",
     "text": [
      "Epoch 131/150, Train Loss: 0.0061866363798294, Validation Loss: 0.0033265325473621488\n",
      "\n"
     ]
    },
    {
     "name": "stderr",
     "output_type": "stream",
     "text": [
      "Epoch 132/150: 100%|████████████████████████████████████████████████████████████████████████████████████| 6/6 [00:11<00:00,  1.84s/it, loss=0.00588]\n"
     ]
    },
    {
     "name": "stdout",
     "output_type": "stream",
     "text": [
      "Epoch 132/150, Train Loss: 0.005880293753256814, Validation Loss: 0.00444417716547226\n",
      "\n"
     ]
    },
    {
     "name": "stderr",
     "output_type": "stream",
     "text": [
      "Epoch 133/150: 100%|████████████████████████████████████████████████████████████████████████████████████| 6/6 [00:11<00:00,  1.85s/it, loss=0.00641]\n"
     ]
    },
    {
     "name": "stdout",
     "output_type": "stream",
     "text": [
      "Epoch 133/150, Train Loss: 0.0064103477715333505, Validation Loss: 0.0041436975200970965\n",
      "\n"
     ]
    },
    {
     "name": "stderr",
     "output_type": "stream",
     "text": [
      "Epoch 134/150: 100%|████████████████████████████████████████████████████████████████████████████████████| 6/6 [00:11<00:00,  1.86s/it, loss=0.00598]\n"
     ]
    },
    {
     "name": "stdout",
     "output_type": "stream",
     "text": [
      "Epoch 134/150, Train Loss: 0.005981532546381156, Validation Loss: 0.004541614752573271\n",
      "\n"
     ]
    },
    {
     "name": "stderr",
     "output_type": "stream",
     "text": [
      "Epoch 135/150: 100%|████████████████████████████████████████████████████████████████████████████████████| 6/6 [00:11<00:00,  1.84s/it, loss=0.00575]\n"
     ]
    },
    {
     "name": "stdout",
     "output_type": "stream",
     "text": [
      "Epoch 135/150, Train Loss: 0.005750829695090134, Validation Loss: 0.0027469519021299975\n",
      "\n"
     ]
    },
    {
     "name": "stderr",
     "output_type": "stream",
     "text": [
      "Epoch 136/150: 100%|████████████████████████████████████████████████████████████████████████████████████| 6/6 [00:11<00:00,  1.88s/it, loss=0.00557]\n"
     ]
    },
    {
     "name": "stdout",
     "output_type": "stream",
     "text": [
      "Epoch 136/150, Train Loss: 0.005572778261719375, Validation Loss: 0.00950999500734421\n",
      "\n"
     ]
    },
    {
     "name": "stderr",
     "output_type": "stream",
     "text": [
      "Epoch 137/150: 100%|██████████████████████████████████████████████████████████████████████████████████████| 6/6 [00:11<00:00,  1.84s/it, loss=0.006]\n"
     ]
    },
    {
     "name": "stdout",
     "output_type": "stream",
     "text": [
      "Epoch 137/150, Train Loss: 0.00600115723338806, Validation Loss: 0.004046651253399129\n",
      "\n"
     ]
    },
    {
     "name": "stderr",
     "output_type": "stream",
     "text": [
      "Epoch 138/150: 100%|████████████████████████████████████████████████████████████████████████████████████| 6/6 [00:11<00:00,  1.84s/it, loss=0.00536]\n"
     ]
    },
    {
     "name": "stdout",
     "output_type": "stream",
     "text": [
      "Epoch 138/150, Train Loss: 0.0053574867876401795, Validation Loss: 0.0036508738897585618\n",
      "\n"
     ]
    },
    {
     "name": "stderr",
     "output_type": "stream",
     "text": [
      "Epoch 139/150: 100%|████████████████████████████████████████████████████████████████████████████████████| 6/6 [00:11<00:00,  1.86s/it, loss=0.00547]\n"
     ]
    },
    {
     "name": "stdout",
     "output_type": "stream",
     "text": [
      "Epoch 139/150, Train Loss: 0.005465543875794134, Validation Loss: 0.002587205371431385\n",
      "\n"
     ]
    },
    {
     "name": "stderr",
     "output_type": "stream",
     "text": [
      "Epoch 140/150: 100%|████████████████████████████████████████████████████████████████████████████████████| 6/6 [00:11<00:00,  1.88s/it, loss=0.00582]\n"
     ]
    },
    {
     "name": "stdout",
     "output_type": "stream",
     "text": [
      "Epoch 140/150, Train Loss: 0.005815118184222632, Validation Loss: 0.0026270214778681598\n",
      "\n"
     ]
    },
    {
     "name": "stderr",
     "output_type": "stream",
     "text": [
      "Epoch 141/150: 100%|████████████████████████████████████████████████████████████████████████████████████| 6/6 [00:11<00:00,  1.85s/it, loss=0.00575]\n"
     ]
    },
    {
     "name": "stdout",
     "output_type": "stream",
     "text": [
      "Epoch 141/150, Train Loss: 0.005746365867606881, Validation Loss: 0.0029941001654757806\n",
      "\n"
     ]
    },
    {
     "name": "stderr",
     "output_type": "stream",
     "text": [
      "Epoch 142/150: 100%|████████████████████████████████████████████████████████████████████████████████████| 6/6 [00:11<00:00,  1.87s/it, loss=0.00603]\n"
     ]
    },
    {
     "name": "stdout",
     "output_type": "stream",
     "text": [
      "Epoch 142/150, Train Loss: 0.006034533769707195, Validation Loss: 0.003867791713370631\n",
      "\n"
     ]
    },
    {
     "name": "stderr",
     "output_type": "stream",
     "text": [
      "Epoch 143/150: 100%|████████████████████████████████████████████████████████████████████████████████████| 6/6 [00:11<00:00,  1.87s/it, loss=0.00536]\n"
     ]
    },
    {
     "name": "stdout",
     "output_type": "stream",
     "text": [
      "Epoch 143/150, Train Loss: 0.00536150427231203, Validation Loss: 0.00849711918272078\n",
      "\n"
     ]
    },
    {
     "name": "stderr",
     "output_type": "stream",
     "text": [
      "Epoch 144/150: 100%|████████████████████████████████████████████████████████████████████████████████████| 6/6 [00:11<00:00,  1.84s/it, loss=0.00562]\n"
     ]
    },
    {
     "name": "stdout",
     "output_type": "stream",
     "text": [
      "Epoch 144/150, Train Loss: 0.005623095924319285, Validation Loss: 0.00269770795906273\n",
      "\n"
     ]
    },
    {
     "name": "stderr",
     "output_type": "stream",
     "text": [
      "Epoch 145/150: 100%|████████████████████████████████████████████████████████████████████████████████████| 6/6 [00:11<00:00,  1.86s/it, loss=0.00599]\n"
     ]
    },
    {
     "name": "stdout",
     "output_type": "stream",
     "text": [
      "Epoch 145/150, Train Loss: 0.005989583425818838, Validation Loss: 0.004160399509904285\n",
      "\n"
     ]
    },
    {
     "name": "stderr",
     "output_type": "stream",
     "text": [
      "Epoch 146/150: 100%|████████████████████████████████████████████████████████████████████████████████████| 6/6 [00:11<00:00,  1.86s/it, loss=0.00556]\n"
     ]
    },
    {
     "name": "stdout",
     "output_type": "stream",
     "text": [
      "Epoch 146/150, Train Loss: 0.005558164749850727, Validation Loss: 0.013234922284027562\n",
      "\n"
     ]
    },
    {
     "name": "stderr",
     "output_type": "stream",
     "text": [
      "Epoch 147/150: 100%|████████████████████████████████████████████████████████████████████████████████████| 6/6 [00:11<00:00,  1.84s/it, loss=0.00562]\n"
     ]
    },
    {
     "name": "stdout",
     "output_type": "stream",
     "text": [
      "Epoch 147/150, Train Loss: 0.0056232272036140785, Validation Loss: 0.0038802940980531275\n",
      "\n"
     ]
    },
    {
     "name": "stderr",
     "output_type": "stream",
     "text": [
      "Epoch 148/150: 100%|████████████████████████████████████████████████████████████████████████████████████| 6/6 [00:11<00:00,  1.85s/it, loss=0.00543]\n"
     ]
    },
    {
     "name": "stdout",
     "output_type": "stream",
     "text": [
      "Epoch 148/150, Train Loss: 0.005425840763362229, Validation Loss: 0.004201034937674801\n",
      "\n"
     ]
    },
    {
     "name": "stderr",
     "output_type": "stream",
     "text": [
      "Epoch 149/150: 100%|████████████████████████████████████████████████████████████████████████████████████| 6/6 [00:11<00:00,  1.84s/it, loss=0.00559]\n"
     ]
    },
    {
     "name": "stdout",
     "output_type": "stream",
     "text": [
      "Epoch 149/150, Train Loss: 0.005592912645725948, Validation Loss: 0.0023140681247847774\n",
      "\n"
     ]
    },
    {
     "name": "stderr",
     "output_type": "stream",
     "text": [
      "Epoch 150/150: 100%|█████████████████████████████████████████████████████████████████████████████████████| 6/6 [00:11<00:00,  1.85s/it, loss=0.0053]\n"
     ]
    },
    {
     "name": "stdout",
     "output_type": "stream",
     "text": [
      "Epoch 150/150, Train Loss: 0.005303352306428779, Validation Loss: 0.003701078938320279\n",
      "\n",
      "Training Finished!\n"
     ]
    }
   ],
   "source": [
    "# create trainer and train the model\n",
    "print(f'Learning rate: {lr}; Batch size: {batch_size}; Epochs: {epochs}')\n",
    "trainer = Trainer(model, optimizer, criterion, device, writer)\n",
    "trainer.train(train_loader, test_loader, epochs=epochs)\n",
    "print('Training Finished!')"
   ]
  },
  {
   "cell_type": "code",
   "execution_count": 8,
   "metadata": {},
   "outputs": [],
   "source": [
    "# save the model\n",
    "torch.save(model, 'model.pth')\n",
    "\n",
    "# close the SummaryWriter\n",
    "writer.close()"
   ]
  },
  {
   "cell_type": "markdown",
   "metadata": {},
   "source": [
    "### Testing Part\n",
    "\n",
    "Visualize the training result:"
   ]
  },
  {
   "cell_type": "code",
   "execution_count": 8,
   "metadata": {},
   "outputs": [
    {
     "name": "stderr",
     "output_type": "stream",
     "text": [
      "/tmp/ipykernel_1466909/3521962505.py:12: FutureWarning: You are using `torch.load` with `weights_only=False` (the current default value), which uses the default pickle module implicitly. It is possible to construct malicious pickle data which will execute arbitrary code during unpickling (See https://github.com/pytorch/pytorch/blob/main/SECURITY.md#untrusted-models for more details). In a future release, the default value for `weights_only` will be flipped to `True`. This limits the functions that could be executed during unpickling. Arbitrary objects will no longer be allowed to be loaded via this mode unless they are explicitly allowlisted by the user via `torch.serialization.add_safe_globals`. We recommend you start setting `weights_only=True` for any use case where you don't have full control of the loaded file. Please open an issue on GitHub for any issues related to this experimental feature.\n",
      "  model = torch.load('model.pth')\n"
     ]
    }
   ],
   "source": [
    "# visualize the result\n",
    "import numpy as np\n",
    "import torch\n",
    "from torch.utils.data import DataLoader\n",
    "from torch import nn\n",
    "from torchvision import transforms\n",
    "import matplotlib.pyplot as plt\n",
    "\n",
    "import utils.network as nt\n",
    "from utils.dataloader import CropDataset\n",
    "\n",
    "model = torch.load('model.pth')"
   ]
  },
  {
   "cell_type": "code",
   "execution_count": 9,
   "metadata": {},
   "outputs": [
    {
     "name": "stdout",
     "output_type": "stream",
     "text": [
      "Using 2 devices.\n"
     ]
    },
    {
     "data": {
      "text/plain": [
       "DataParallel(\n",
       "  (module): DataParallel(\n",
       "    (module): ResAttU_Net(\n",
       "      (Maxpool): MaxPool2d(kernel_size=2, stride=2, padding=0, dilation=1, ceil_mode=False)\n",
       "      (Conv1): res_conv(\n",
       "        (conv): Sequential(\n",
       "          (0): Conv2d(1, 64, kernel_size=(3, 3), stride=(1, 1), padding=(1, 1))\n",
       "          (1): BatchNorm2d(64, eps=1e-05, momentum=0.1, affine=True, track_running_stats=True)\n",
       "          (2): ReLU(inplace=True)\n",
       "          (3): Conv2d(64, 64, kernel_size=(3, 3), stride=(1, 1), padding=(1, 1))\n",
       "          (4): BatchNorm2d(64, eps=1e-05, momentum=0.1, affine=True, track_running_stats=True)\n",
       "          (5): ReLU(inplace=True)\n",
       "        )\n",
       "        (res): Conv2d(1, 64, kernel_size=(1, 1), stride=(1, 1))\n",
       "      )\n",
       "      (Conv2): res_conv(\n",
       "        (conv): Sequential(\n",
       "          (0): Conv2d(64, 128, kernel_size=(3, 3), stride=(1, 1), padding=(1, 1))\n",
       "          (1): BatchNorm2d(128, eps=1e-05, momentum=0.1, affine=True, track_running_stats=True)\n",
       "          (2): ReLU(inplace=True)\n",
       "          (3): Conv2d(128, 128, kernel_size=(3, 3), stride=(1, 1), padding=(1, 1))\n",
       "          (4): BatchNorm2d(128, eps=1e-05, momentum=0.1, affine=True, track_running_stats=True)\n",
       "          (5): ReLU(inplace=True)\n",
       "        )\n",
       "        (res): Conv2d(64, 128, kernel_size=(1, 1), stride=(1, 1))\n",
       "      )\n",
       "      (Conv3): res_conv(\n",
       "        (conv): Sequential(\n",
       "          (0): Conv2d(128, 256, kernel_size=(3, 3), stride=(1, 1), padding=(1, 1))\n",
       "          (1): BatchNorm2d(256, eps=1e-05, momentum=0.1, affine=True, track_running_stats=True)\n",
       "          (2): ReLU(inplace=True)\n",
       "          (3): Conv2d(256, 256, kernel_size=(3, 3), stride=(1, 1), padding=(1, 1))\n",
       "          (4): BatchNorm2d(256, eps=1e-05, momentum=0.1, affine=True, track_running_stats=True)\n",
       "          (5): ReLU(inplace=True)\n",
       "        )\n",
       "        (res): Conv2d(128, 256, kernel_size=(1, 1), stride=(1, 1))\n",
       "      )\n",
       "      (Conv4): res_conv(\n",
       "        (conv): Sequential(\n",
       "          (0): Conv2d(256, 512, kernel_size=(3, 3), stride=(1, 1), padding=(1, 1))\n",
       "          (1): BatchNorm2d(512, eps=1e-05, momentum=0.1, affine=True, track_running_stats=True)\n",
       "          (2): ReLU(inplace=True)\n",
       "          (3): Conv2d(512, 512, kernel_size=(3, 3), stride=(1, 1), padding=(1, 1))\n",
       "          (4): BatchNorm2d(512, eps=1e-05, momentum=0.1, affine=True, track_running_stats=True)\n",
       "          (5): ReLU(inplace=True)\n",
       "        )\n",
       "        (res): Conv2d(256, 512, kernel_size=(1, 1), stride=(1, 1))\n",
       "      )\n",
       "      (Conv5): res_conv(\n",
       "        (conv): Sequential(\n",
       "          (0): Conv2d(512, 1024, kernel_size=(3, 3), stride=(1, 1), padding=(1, 1))\n",
       "          (1): BatchNorm2d(1024, eps=1e-05, momentum=0.1, affine=True, track_running_stats=True)\n",
       "          (2): ReLU(inplace=True)\n",
       "          (3): Conv2d(1024, 1024, kernel_size=(3, 3), stride=(1, 1), padding=(1, 1))\n",
       "          (4): BatchNorm2d(1024, eps=1e-05, momentum=0.1, affine=True, track_running_stats=True)\n",
       "          (5): ReLU(inplace=True)\n",
       "        )\n",
       "        (res): Conv2d(512, 1024, kernel_size=(1, 1), stride=(1, 1))\n",
       "      )\n",
       "      (Up5): up_conv(\n",
       "        (up): Sequential(\n",
       "          (0): Upsample(scale_factor=2.0, mode='nearest')\n",
       "          (1): Conv2d(1024, 512, kernel_size=(3, 3), stride=(1, 1), padding=(1, 1))\n",
       "          (2): BatchNorm2d(512, eps=1e-05, momentum=0.1, affine=True, track_running_stats=True)\n",
       "          (3): ReLU(inplace=True)\n",
       "        )\n",
       "      )\n",
       "      (Att5): Attention_block(\n",
       "        (W_g): Sequential(\n",
       "          (0): Conv2d(512, 256, kernel_size=(1, 1), stride=(1, 1))\n",
       "          (1): BatchNorm2d(256, eps=1e-05, momentum=0.1, affine=True, track_running_stats=True)\n",
       "        )\n",
       "        (W_x): Sequential(\n",
       "          (0): Conv2d(512, 256, kernel_size=(1, 1), stride=(1, 1))\n",
       "          (1): BatchNorm2d(256, eps=1e-05, momentum=0.1, affine=True, track_running_stats=True)\n",
       "        )\n",
       "        (psi): Sequential(\n",
       "          (0): Conv2d(256, 1, kernel_size=(1, 1), stride=(1, 1))\n",
       "          (1): BatchNorm2d(1, eps=1e-05, momentum=0.1, affine=True, track_running_stats=True)\n",
       "          (2): Sigmoid()\n",
       "        )\n",
       "        (relu): ReLU(inplace=True)\n",
       "      )\n",
       "      (Up_conv5): res_conv(\n",
       "        (conv): Sequential(\n",
       "          (0): Conv2d(1024, 512, kernel_size=(3, 3), stride=(1, 1), padding=(1, 1))\n",
       "          (1): BatchNorm2d(512, eps=1e-05, momentum=0.1, affine=True, track_running_stats=True)\n",
       "          (2): ReLU(inplace=True)\n",
       "          (3): Conv2d(512, 512, kernel_size=(3, 3), stride=(1, 1), padding=(1, 1))\n",
       "          (4): BatchNorm2d(512, eps=1e-05, momentum=0.1, affine=True, track_running_stats=True)\n",
       "          (5): ReLU(inplace=True)\n",
       "        )\n",
       "        (res): Conv2d(1024, 512, kernel_size=(1, 1), stride=(1, 1))\n",
       "      )\n",
       "      (Up4): up_conv(\n",
       "        (up): Sequential(\n",
       "          (0): Upsample(scale_factor=2.0, mode='nearest')\n",
       "          (1): Conv2d(512, 256, kernel_size=(3, 3), stride=(1, 1), padding=(1, 1))\n",
       "          (2): BatchNorm2d(256, eps=1e-05, momentum=0.1, affine=True, track_running_stats=True)\n",
       "          (3): ReLU(inplace=True)\n",
       "        )\n",
       "      )\n",
       "      (Att4): Attention_block(\n",
       "        (W_g): Sequential(\n",
       "          (0): Conv2d(256, 128, kernel_size=(1, 1), stride=(1, 1))\n",
       "          (1): BatchNorm2d(128, eps=1e-05, momentum=0.1, affine=True, track_running_stats=True)\n",
       "        )\n",
       "        (W_x): Sequential(\n",
       "          (0): Conv2d(256, 128, kernel_size=(1, 1), stride=(1, 1))\n",
       "          (1): BatchNorm2d(128, eps=1e-05, momentum=0.1, affine=True, track_running_stats=True)\n",
       "        )\n",
       "        (psi): Sequential(\n",
       "          (0): Conv2d(128, 1, kernel_size=(1, 1), stride=(1, 1))\n",
       "          (1): BatchNorm2d(1, eps=1e-05, momentum=0.1, affine=True, track_running_stats=True)\n",
       "          (2): Sigmoid()\n",
       "        )\n",
       "        (relu): ReLU(inplace=True)\n",
       "      )\n",
       "      (Up_conv4): res_conv(\n",
       "        (conv): Sequential(\n",
       "          (0): Conv2d(512, 256, kernel_size=(3, 3), stride=(1, 1), padding=(1, 1))\n",
       "          (1): BatchNorm2d(256, eps=1e-05, momentum=0.1, affine=True, track_running_stats=True)\n",
       "          (2): ReLU(inplace=True)\n",
       "          (3): Conv2d(256, 256, kernel_size=(3, 3), stride=(1, 1), padding=(1, 1))\n",
       "          (4): BatchNorm2d(256, eps=1e-05, momentum=0.1, affine=True, track_running_stats=True)\n",
       "          (5): ReLU(inplace=True)\n",
       "        )\n",
       "        (res): Conv2d(512, 256, kernel_size=(1, 1), stride=(1, 1))\n",
       "      )\n",
       "      (Up3): up_conv(\n",
       "        (up): Sequential(\n",
       "          (0): Upsample(scale_factor=2.0, mode='nearest')\n",
       "          (1): Conv2d(256, 128, kernel_size=(3, 3), stride=(1, 1), padding=(1, 1))\n",
       "          (2): BatchNorm2d(128, eps=1e-05, momentum=0.1, affine=True, track_running_stats=True)\n",
       "          (3): ReLU(inplace=True)\n",
       "        )\n",
       "      )\n",
       "      (Att3): Attention_block(\n",
       "        (W_g): Sequential(\n",
       "          (0): Conv2d(128, 64, kernel_size=(1, 1), stride=(1, 1))\n",
       "          (1): BatchNorm2d(64, eps=1e-05, momentum=0.1, affine=True, track_running_stats=True)\n",
       "        )\n",
       "        (W_x): Sequential(\n",
       "          (0): Conv2d(128, 64, kernel_size=(1, 1), stride=(1, 1))\n",
       "          (1): BatchNorm2d(64, eps=1e-05, momentum=0.1, affine=True, track_running_stats=True)\n",
       "        )\n",
       "        (psi): Sequential(\n",
       "          (0): Conv2d(64, 1, kernel_size=(1, 1), stride=(1, 1))\n",
       "          (1): BatchNorm2d(1, eps=1e-05, momentum=0.1, affine=True, track_running_stats=True)\n",
       "          (2): Sigmoid()\n",
       "        )\n",
       "        (relu): ReLU(inplace=True)\n",
       "      )\n",
       "      (Up_conv3): res_conv(\n",
       "        (conv): Sequential(\n",
       "          (0): Conv2d(256, 128, kernel_size=(3, 3), stride=(1, 1), padding=(1, 1))\n",
       "          (1): BatchNorm2d(128, eps=1e-05, momentum=0.1, affine=True, track_running_stats=True)\n",
       "          (2): ReLU(inplace=True)\n",
       "          (3): Conv2d(128, 128, kernel_size=(3, 3), stride=(1, 1), padding=(1, 1))\n",
       "          (4): BatchNorm2d(128, eps=1e-05, momentum=0.1, affine=True, track_running_stats=True)\n",
       "          (5): ReLU(inplace=True)\n",
       "        )\n",
       "        (res): Conv2d(256, 128, kernel_size=(1, 1), stride=(1, 1))\n",
       "      )\n",
       "      (Up2): up_conv(\n",
       "        (up): Sequential(\n",
       "          (0): Upsample(scale_factor=2.0, mode='nearest')\n",
       "          (1): Conv2d(128, 64, kernel_size=(3, 3), stride=(1, 1), padding=(1, 1))\n",
       "          (2): BatchNorm2d(64, eps=1e-05, momentum=0.1, affine=True, track_running_stats=True)\n",
       "          (3): ReLU(inplace=True)\n",
       "        )\n",
       "      )\n",
       "      (Att2): Attention_block(\n",
       "        (W_g): Sequential(\n",
       "          (0): Conv2d(64, 32, kernel_size=(1, 1), stride=(1, 1))\n",
       "          (1): BatchNorm2d(32, eps=1e-05, momentum=0.1, affine=True, track_running_stats=True)\n",
       "        )\n",
       "        (W_x): Sequential(\n",
       "          (0): Conv2d(64, 32, kernel_size=(1, 1), stride=(1, 1))\n",
       "          (1): BatchNorm2d(32, eps=1e-05, momentum=0.1, affine=True, track_running_stats=True)\n",
       "        )\n",
       "        (psi): Sequential(\n",
       "          (0): Conv2d(32, 1, kernel_size=(1, 1), stride=(1, 1))\n",
       "          (1): BatchNorm2d(1, eps=1e-05, momentum=0.1, affine=True, track_running_stats=True)\n",
       "          (2): Sigmoid()\n",
       "        )\n",
       "        (relu): ReLU(inplace=True)\n",
       "      )\n",
       "      (Up_conv2): res_conv(\n",
       "        (conv): Sequential(\n",
       "          (0): Conv2d(128, 64, kernel_size=(3, 3), stride=(1, 1), padding=(1, 1))\n",
       "          (1): BatchNorm2d(64, eps=1e-05, momentum=0.1, affine=True, track_running_stats=True)\n",
       "          (2): ReLU(inplace=True)\n",
       "          (3): Conv2d(64, 64, kernel_size=(3, 3), stride=(1, 1), padding=(1, 1))\n",
       "          (4): BatchNorm2d(64, eps=1e-05, momentum=0.1, affine=True, track_running_stats=True)\n",
       "          (5): ReLU(inplace=True)\n",
       "        )\n",
       "        (res): Conv2d(128, 64, kernel_size=(1, 1), stride=(1, 1))\n",
       "      )\n",
       "      (Conv_1x1): Conv2d(64, 1, kernel_size=(1, 1), stride=(1, 1))\n",
       "    )\n",
       "  )\n",
       ")"
      ]
     },
     "execution_count": 9,
     "metadata": {},
     "output_type": "execute_result"
    }
   ],
   "source": [
    "# set device & parallel\n",
    "device = torch.device('cuda' if torch.cuda.is_available() else 'cpu')\n",
    "device_ids = list(range(torch.cuda.device_count()))\n",
    "model = nn.DataParallel(model, device_ids=device_ids).to(device)\n",
    "print(f'Using {len(device_ids)} devices.')\n",
    "model.to(device)"
   ]
  },
  {
   "cell_type": "code",
   "execution_count": 5,
   "metadata": {},
   "outputs": [
    {
     "name": "stdout",
     "output_type": "stream",
     "text": [
      "Data loaded\n",
      "Found 400 images and 400 labels\n"
     ]
    },
    {
     "ename": "NameError",
     "evalue": "name 'device' is not defined",
     "output_type": "error",
     "traceback": [
      "\u001b[0;31m---------------------------------------------------------------------------\u001b[0m",
      "\u001b[0;31mNameError\u001b[0m                                 Traceback (most recent call last)",
      "Cell \u001b[0;32mIn[5], line 18\u001b[0m\n\u001b[1;32m     16\u001b[0m \u001b[38;5;28;01mfor\u001b[39;00m i, (image, label) \u001b[38;5;129;01min\u001b[39;00m \u001b[38;5;28menumerate\u001b[39m(train_loader):\n\u001b[1;32m     17\u001b[0m     \u001b[38;5;28;01mif\u001b[39;00m i \u001b[38;5;241m==\u001b[39m \u001b[38;5;241m328\u001b[39m:\n\u001b[0;32m---> 18\u001b[0m         image, label \u001b[38;5;241m=\u001b[39m image[\u001b[38;5;241m1\u001b[39m]\u001b[38;5;241m.\u001b[39mto(device), label[\u001b[38;5;241m1\u001b[39m]\u001b[38;5;241m.\u001b[39mto(device)\n\u001b[1;32m     19\u001b[0m         \u001b[38;5;28mprint\u001b[39m(image\u001b[38;5;241m.\u001b[39mtype)\n\u001b[1;32m     20\u001b[0m         \u001b[38;5;28;01mbreak\u001b[39;00m\n",
      "\u001b[0;31mNameError\u001b[0m: name 'device' is not defined"
     ]
    }
   ],
   "source": [
    "# load the test data(all)\n",
    "# transform\n",
    "transform = transforms.Compose([\n",
    "    transforms.RandomHorizontalFlip(),\n",
    "    transforms.RandomVerticalFlip(),\n",
    "#    transforms.Resize((384, 384)),\n",
    "    transforms.ToTensor(),\n",
    "])\n",
    "\n",
    "# data set\n",
    "data_dir = './data'\n",
    "dataset = CropDataset(data_dir, transform=transform)\n",
    "train_loader = DataLoader(dataset, batch_size=1, shuffle=False)\n",
    "\n",
    "# load the (i+1)th item\n",
    "for i, (image, label) in enumerate(train_loader):\n",
    "    if i == 328:\n",
    "        image, label = image[1].to(device), label[1].to(device)\n",
    "        print(image.type)\n",
    "        break"
   ]
  },
  {
   "cell_type": "code",
   "execution_count": null,
   "metadata": {},
   "outputs": [],
   "source": [
    "# forward\n",
    "with torch.no_grad():\n",
    "    output = model(image)\n",
    "loss = criterion(output, label)\n",
    "print(f'Loss: {loss.item()}')\n",
    "\n",
    "# binary\n",
    "output_binary = (output > 0.3).float()\n",
    "\n",
    "# transform to numpy arrays\n",
    "image_np = image.cpu().numpy().squeeze()\n",
    "label_np = label.cpu().numpy().squeeze()\n",
    "output_np = output.cpu().numpy().squeeze()\n",
    "output_binary_np = output_binary.cpu().numpy().squeeze()\n",
    "\n",
    "print(np.max(output_np))"
   ]
  },
  {
   "cell_type": "code",
   "execution_count": null,
   "metadata": {},
   "outputs": [],
   "source": [
    "# figure\n",
    "fig, axs = plt.subplots(1, 4, figsize=(20, 5))\n",
    "\n",
    "axs[0].imshow(image_np, cmap='gray')\n",
    "axs[0].set_title('Original Image')\n",
    "axs[1].imshow(output_np, cmap='gray')\n",
    "axs[1].set_title('Model Output')\n",
    "axs[2].imshow(output_binary_np, cmap='gray')\n",
    "axs[2].set_title('Binary Output')\n",
    "axs[3].imshow(label_np, cmap='gray')\n",
    "axs[3].set_title('Label')\n",
    "\n",
    "for ax in axs:\n",
    "    ax.axis('off')\n",
    "plt.savefig('result.png')\n",
    "plt.show()"
   ]
  }
 ],
 "metadata": {
  "kernelspec": {
   "display_name": "pytorch",
   "language": "python",
   "name": "torch"
  },
  "language_info": {
   "codemirror_mode": {
    "name": "ipython",
    "version": 3
   },
   "file_extension": ".py",
   "mimetype": "text/x-python",
   "name": "python",
   "nbconvert_exporter": "python",
   "pygments_lexer": "ipython3",
   "version": "3.12.7"
  }
 },
 "nbformat": 4,
 "nbformat_minor": 4
}
